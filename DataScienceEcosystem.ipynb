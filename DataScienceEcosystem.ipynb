{
  "metadata": {
    "kernelspec": {
      "name": "python",
      "display_name": "Python (Pyodide)",
      "language": "python"
    },
    "language_info": {
      "codemirror_mode": {
        "name": "python",
        "version": 3
      },
      "file_extension": ".py",
      "mimetype": "text/x-python",
      "name": "python",
      "nbconvert_exporter": "python",
      "pygments_lexer": "ipython3",
      "version": "3.8"
    }
  },
  "nbformat_minor": 4,
  "nbformat": 4,
  "cells": [
    {
      "cell_type": "markdown",
      "source": "# Data Science Tools and Ecosystem\r\n",
      "metadata": {}
    },
    {
      "cell_type": "markdown",
      "source": "Write an introductory sentence about the notebook such as the follows:\n\nIn this notebook, Data Science Tools and Ecosystem are summarized.",
      "metadata": {}
    },
    {
      "cell_type": "code",
      "source": "print(\"Some of the popular languages that Data Scientists use are:\")\nprint(\"1. **Python**: is an easy-to-learn, high-level programming language with an intuitive syntax. It is very popular in the data science community due to its extensive resources, extensive libraries for data analysis, visualization, and machine learning.\")\nprint(\"2. **R**: is a statistical programming language that is mainly used for data analysis and data mining. It has a wide range of options for the analysis of statistical data and is considered more accessible than Python for non-developers.\")\nprint(\"3. **SQL**: is a structured query language used to manage and manipulate relational databases. It is crucial for querying data and managing databases.\")\n",
      "metadata": {
        "trusted": true
      },
      "outputs": [
        {
          "name": "stdout",
          "text": "Some of the popular languages that Data Scientists use are:\n1. **Python**: is an easy-to-learn, high-level programming language with an intuitive syntax. It is very popular in the data science community due to its extensive resources, extensive libraries for data analysis, visualization, and machine learning.\n2. **R**: is a statistical programming language that is mainly used for data analysis and data mining. It has a wide range of options for the analysis of statistical data and is considered more accessible than Python for non-developers.\n3. **SQL**: is a structured query language used to manage and manipulate relational databases. It is crucial for querying data and managing databases.\n",
          "output_type": "stream"
        }
      ],
      "execution_count": 1
    },
    {
      "cell_type": "code",
      "source": "",
      "metadata": {
        "trusted": true
      },
      "outputs": [],
      "execution_count": null
    },
    {
      "cell_type": "code",
      "source": "",
      "metadata": {
        "trusted": true
      },
      "outputs": [],
      "execution_count": null
    }
  ]
}